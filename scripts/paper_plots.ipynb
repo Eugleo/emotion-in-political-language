{
 "cells": [
  {
   "cell_type": "code",
   "execution_count": 1,
   "metadata": {},
   "outputs": [],
   "source": [
    "%load_ext autoreload\n",
    "%autoreload 2"
   ]
  },
  {
   "cell_type": "code",
   "execution_count": 2,
   "metadata": {},
   "outputs": [
    {
     "name": "stderr",
     "output_type": "stream",
     "text": [
      "/mnt/ssd-1/mechinterp/gw1/evzen-test/.venv/lib/python3.12/site-packages/tqdm/auto.py:21: TqdmWarning: IProgress not found. Please update jupyter and ipywidgets. See https://ipywidgets.readthedocs.io/en/stable/user_install.html\n",
      "  from .autonotebook import tqdm as notebook_tqdm\n"
     ]
    },
    {
     "data": {
      "text/html": [
       "\n",
       "            <div id=\"2Ac0Rn\"></div>\n",
       "            <script type=\"text/javascript\" data-lets-plot-script=\"library\">\n",
       "                if(!window.letsPlotCallQueue) {\n",
       "                    window.letsPlotCallQueue = [];\n",
       "                }; \n",
       "                window.letsPlotCall = function(f) {\n",
       "                    window.letsPlotCallQueue.push(f);\n",
       "                };\n",
       "                (function() {\n",
       "                    var script = document.createElement(\"script\");\n",
       "                    script.type = \"text/javascript\";\n",
       "                    script.src = \"https://cdn.jsdelivr.net/gh/JetBrains/lets-plot@v4.3.3/js-package/distr/lets-plot.min.js\";\n",
       "                    script.onload = function() {\n",
       "                        window.letsPlotCall = function(f) {f();};\n",
       "                        window.letsPlotCallQueue.forEach(function(f) {f();});\n",
       "                        window.letsPlotCallQueue = [];\n",
       "                        \n",
       "                    };\n",
       "                    script.onerror = function(event) {\n",
       "                        window.letsPlotCall = function(f) {};    // noop\n",
       "                        window.letsPlotCallQueue = [];\n",
       "                        var div = document.createElement(\"div\");\n",
       "                        div.style.color = 'darkred';\n",
       "                        div.textContent = 'Error loading Lets-Plot JS';\n",
       "                        document.getElementById(\"2Ac0Rn\").appendChild(div);\n",
       "                    };\n",
       "                    var e = document.getElementById(\"2Ac0Rn\");\n",
       "                    e.appendChild(script);\n",
       "                })()\n",
       "            </script>\n",
       "            "
      ]
     },
     "metadata": {},
     "output_type": "display_data"
    }
   ],
   "source": [
    "import datetime\n",
    "\n",
    "# Add the project root to the Python path\n",
    "import os\n",
    "import sys\n",
    "from pathlib import Path\n",
    "\n",
    "import datasets\n",
    "import polars as pl\n",
    "from lets_plot import *\n",
    "from polars import col as c\n",
    "\n",
    "notebook_path = Path(os.getcwd()).resolve()\n",
    "sys.path.append(str(notebook_path.parent))\n",
    "\n",
    "from src.emotion import utils\n",
    "\n",
    "LetsPlot.setup_html()"
   ]
  },
  {
   "cell_type": "code",
   "execution_count": 3,
   "metadata": {},
   "outputs": [],
   "source": [
    "asset_folder = Path(\"../../assets\")\n",
    "utils.set_seed(42)"
   ]
  },
  {
   "cell_type": "markdown",
   "metadata": {},
   "source": [
    "## Speech Count"
   ]
  },
  {
   "cell_type": "code",
   "execution_count": 4,
   "metadata": {},
   "outputs": [],
   "source": [
    "dataset = datasets.load_dataset(\n",
    "    \"Eugleo/us-congressional-speeches-subset\", split=\"train\"\n",
    ")\n",
    "dataset_df = dataset.to_polars()"
   ]
  },
  {
   "cell_type": "code",
   "execution_count": 5,
   "metadata": {},
   "outputs": [
    {
     "data": {
      "text/html": [
       "   <div id=\"GUEtub\"></div>\n",
       "   <script type=\"text/javascript\" data-lets-plot-script=\"plot\">\n",
       "       (function() {\n",
       "           var plotSpec={\n",
       "\"data\":{\n",
       "\"year\":[5.99616E11,-2.4929856E12,0.0,4.417632E11,-2.0512224E12,1.0413792E12,-2.9032128E12,-1.6094592E12,-4.102272E11,-2.3035968E12,-1.0098432E12,1.230768E12,3.1536E10,6.31152E11,-5.6808E11,-2.4614496E12,-1.4200704E12,-2.0196864E12,1.0729152E12,-3.786912E11,-2.8716768E12,-9.783072E11,-1.5779232E12,2.209248E11,6.62688E11,1.262304E12,-2.2720608E12,6.3072E10,-7.889184E11,-1.3885344E12,-1.9881504E12,-2.682288E12,-9.467712E11,2.524608E11,-3.471552E11,-2.2405248E12,8.520768E11,6.94224E11,-2.8401408E12,-1.7987616E12,-1.9566144E12,-1.3569984E12,-1.577664E11,-7.573824E11,-2.650752E12,-3.156192E11,2.839968E11,-2.2089888E12,8.836128E11,-1.1676096E12,-1.7672256E12,-3.0609792E12,-7.258464E11,4.733856E11,-1.3254624E12,-1.262304E11,-2.619216E12,-2.1774528E12,9.151488E11,3.155328E11,-1.7356896E12,-1.1360736E12,-5.364576E11,-3.0294432E12,-9.46944E10,-2.4298272E12,5.049216E11,-6.943104E11,9.466848E11,1.1045376E12,-2.58768E12,-2.1459168E12,-1.5463008E12,-1.7041536E12,-1.1045376E12,-2.3982912E12,-2.9979072E12,9.46944E10,-5.049216E11,5.364576E11,-6.31584E10,1.1360736E12,-2.1143808E12,-9.151488E11,-2.8085184E12,-1.5147648E12,-2.3667552E12,-4.733856E11,7.258464E11,-1.0730016E12,-2.9663712E12,1.262304E11,1.1676096E12,-1.924992E12,5.679936E11,-8.836128E11,-2.0828448E12,-1.4832288E12,-2.839968E11,-4.418496E11,-2.7769824E12,7.573824E11,1.577664E11,-2.3352192E12,1.1991456E12,-1.893456E12,-8.520768E11,-1.4516928E12,-1.29384E12,1.893024E11,3.471552E11,-2.524608E11,-2.7454464E12,7.889184E11,-2.5560576E12,-1.262304E12,-6.62688E11,-1.86192E12,-8.205408E11,-2.7139104E12,9.783072E11,3.786912E11,-2.209248E11,-1.6725312E12,8.204544E11,-6.31152E11,-1.830384E12,-1.230768E12,-3.1536E10,-2.5245216E12,4.102272E11,-1.893888E11,1.0098432E12,-1.6409952E12,-1.0413792E12,-2.9347488E12,-5.99616E11,-1.199232E12],\n",
       "\"speech_count\":[41272.0,12895.0,67069.0,47148.0,11609.0,39142.0,22307.0,52633.0,48568.0,22148.0,27122.0,42110.0,60502.0,45481.0,28458.0,26196.0,17879.0,30081.0,29312.0,49917.0,20164.0,34029.0,35643.0,61161.0,45648.0,25443.0,24223.0,53498.0,37546.0,41244.0,12581.0,11274.0,39478.0,61120.0,50460.0,10312.0,35843.0,40109.0,22737.0,43373.0,23970.0,16047.0,56838.0,33883.0,29283.0,50564.0,58258.0,22778.0,36926.0,30888.0,65018.0,2321.0,33649.0,51720.0,30755.0,53960.0,9985.0,12535.0,39118.0,53520.0,17862.0,29474.0,32025.0,25183.0,59348.0,20035.0,46990.0,26644.0,33945.0,36891.0,34317.0,22944.0,52874.0,55108.0,36536.0,33514.0,10398.0,61341.0,51072.0,50809.0,51430.0,30578.0,9200.0,32033.0,13428.0,54099.0,12291.0,33443.0,42973.0,22707.0,24946.0,60219.0,45605.0,30607.0,42799.0,32264.0,17973.0,16167.0,52030.0,41062.0,33744.0,38123.0,65799.0,24997.0,30096.0,33749.0,33749.0,37913.0,35217.0,54169.0,45960.0,53744.0,16663.0,57470.0,10216.0,39717.0,43129.0,27776.0,30841.0,24465.0,33767.0,48766.0,51251.0,52697.0,35384.0,50451.0,48012.0,17942.0,58754.0,41769.0,50829.0,54083.0,27999.0,52593.0,35433.0,11181.0,43900.0,43656.0]\n",
       "},\n",
       "\"mapping\":{\n",
       "\"x\":\"year\",\n",
       "\"y\":\"speech_count\"\n",
       "},\n",
       "\"data_meta\":{\n",
       "\"series_annotations\":[{\n",
       "\"column\":\"year\",\n",
       "\"type\":\"datetime\"\n",
       "}]\n",
       "},\n",
       "\"kind\":\"plot\",\n",
       "\"scales\":[{\n",
       "\"name\":\"Year\",\n",
       "\"aesthetic\":\"x\"\n",
       "},{\n",
       "\"name\":\"# of speeches\",\n",
       "\"aesthetic\":\"y\"\n",
       "},{\n",
       "\"aesthetic\":\"x\",\n",
       "\"format\":\"%Y\",\n",
       "\"datetime\":true\n",
       "}],\n",
       "\"layers\":[{\n",
       "\"geom\":\"line\",\n",
       "\"mapping\":{\n",
       "},\n",
       "\"data_meta\":{\n",
       "},\n",
       "\"data\":{\n",
       "}\n",
       "}],\n",
       "\"metainfo_list\":[]\n",
       "};\n",
       "           var plotContainer = document.getElementById(\"GUEtub\");\n",
       "           window.letsPlotCall(function() {{\n",
       "               LetsPlot.buildPlotFromProcessedSpecs(plotSpec, -1, -1, plotContainer);\n",
       "           }});\n",
       "       })();\n",
       "   </script>"
      ]
     },
     "metadata": {},
     "output_type": "display_data"
    },
    {
     "data": {
      "text/plain": [
       "'/mnt/ssd-1/mechinterp/gw1/evzen-test/assets/speech_count.svg'"
      ]
     },
     "execution_count": 5,
     "metadata": {},
     "output_type": "execute_result"
    }
   ],
   "source": [
    "filtered_speech_count = dataset_df.group_by(\n",
    "    c(\"date\").dt.truncate(\"1y\").alias(\"year\")\n",
    ").agg(c(\"speech_id\").n_unique().alias(\"speech_count\"))\n",
    "\n",
    "chart = (\n",
    "    ggplot(filtered_speech_count, aes(x=\"year\", y=\"speech_count\"))\n",
    "    + geom_line()\n",
    "    + xlab(\"Year\")\n",
    "    + ylab(\"# of speeches\")\n",
    "    + scale_x_datetime(format=\"%Y\")\n",
    ")\n",
    "\n",
    "chart.show()\n",
    "\n",
    "ggsave(chart + ggsize(400, 200), str(asset_folder / \"speech_count.svg\"))"
   ]
  },
  {
   "cell_type": "code",
   "execution_count": 6,
   "metadata": {},
   "outputs": [
    {
     "data": {
      "text/plain": [
       "5038919"
      ]
     },
     "execution_count": 6,
     "metadata": {},
     "output_type": "execute_result"
    }
   ],
   "source": [
    "filtered_speech_count[\"speech_count\"].sum()"
   ]
  },
  {
   "cell_type": "markdown",
   "metadata": {},
   "source": [
    "## Pairwise Comparisons"
   ]
  },
  {
   "cell_type": "code",
   "execution_count": 7,
   "metadata": {},
   "outputs": [],
   "source": [
    "pairs = datasets.load_dataset(\n",
    "    \"Eugleo/us-congressional-speeches-emotionality-pairs\", split=\"train\"\n",
    ")\n",
    "pairs_df = pairs.to_polars()"
   ]
  },
  {
   "cell_type": "code",
   "execution_count": 8,
   "metadata": {},
   "outputs": [
    {
     "data": {
      "text/html": [
       "<div><style>\n",
       ".dataframe > thead > tr,\n",
       ".dataframe > tbody > tr {\n",
       "  text-align: right;\n",
       "  white-space: pre-wrap;\n",
       "}\n",
       "</style>\n",
       "<small>shape: (3, 2)</small><table border=\"1\" class=\"dataframe\"><thead><tr><th>result</th><th>count</th></tr><tr><td>i64</td><td>u32</td></tr></thead><tbody><tr><td>1</td><td>71964</td></tr><tr><td>0</td><td>76616</td></tr><tr><td>-1</td><td>1420</td></tr></tbody></table></div>"
      ],
      "text/plain": [
       "shape: (3, 2)\n",
       "┌────────┬───────┐\n",
       "│ result ┆ count │\n",
       "│ ---    ┆ ---   │\n",
       "│ i64    ┆ u32   │\n",
       "╞════════╪═══════╡\n",
       "│ 1      ┆ 71964 │\n",
       "│ 0      ┆ 76616 │\n",
       "│ -1     ┆ 1420  │\n",
       "└────────┴───────┘"
      ]
     },
     "execution_count": 8,
     "metadata": {},
     "output_type": "execute_result"
    }
   ],
   "source": [
    "pairs_df[\"result\"].value_counts()"
   ]
  },
  {
   "cell_type": "code",
   "execution_count": 9,
   "metadata": {},
   "outputs": [
    {
     "name": "stdout",
     "output_type": "stream",
     "text": [
      "{'speech_1': 'Auschwitz. I am glad I heard that word. I would like everybody in this Chamber. every visitor. Madam Chairman. and everybody across the country to absorb this fact that was just suppressed by the dominant media culture. The angel of death should have been called the devil of death on rail lines at Birkenau. the adjunct satellite camp to Auschwitz which the gentleman mentioned. which actually killed 4 million people. that angel of death. Dr. Mengele. who did in fact escape justice until God finally took him in a drowning accident on a Brazilian beach in 1979. guess what Dr. Mengele. the devil of Auschwitz and Birkenau did when he went to South America to hide from justice. guess what he practiced as a medical doctor. again disregarding his hypocratic oath and any sense of Christian or Jewish decency in this all over Europe. surprise. surprise. surprise. Dr. Mengele was an abortionist in Argentina and Brazil. We are killing innocent human life. Leave these Bush regulations alone. and let these family clinics function on planned parenthood that does not involve the death of an existing human being with an immortal soul. And Moses agrees with it. and Theramenes does. And in fact. all 23 of these lawmakers on our walls. including the infamous Napoleon. at least those who chose to speak out in the pages of history believed that that child moving in there was a live human being. And I visited Dr. Killer Tillers abortuary in Wichita. KS. 2 weeks ago and I watched the taxicab (river arrive with a mothertobe who was showing. showing. Showing what? A human being with a soul.\\n', 'speech_1_id': 1020155559, 'speech_2': 'Mr. Chairman. I yield myself such time as I may consume. I would just like to respond briefly before yielding to the gentleman from California. It has been pointed out that if we do not do this and meet the budget figure. then something dire is going to happen. I really do not know May . 1987 how many committees meet the budget figure now. I know that the Armed Services Committee is always under a lightning rod. while other committees overspend and go over the budget figure with impunity. and nobody seems too uptight about that. There is nothing that would prohibit anybody from offering an acrosstheboard amendment even now. however much we cut it or increase it. As long as we do it responsibly and we add back those things that are justified. with Members on the floor by a major. Ity voting and saying. yes. we want those addbacks. I do not see any rationale for saying that after having gone through all this process of adding back. then we are going to take a sweeping acrosstheboard cut. I do not believe that is going to happen. and I am willing to take my chances with it. I want to have the attention of the committee chairman now because I know he agrees with me on this. This is the worst possible way of doing business. in that we cut below what we know is going to be the final figure. and then when that figure is raised subsequently by the Budget Committee or in conference with the Senate. then there are addbacks. Well. how will they add it back? They add it back in conference. That is when the House Members and the Senate Members in conference. they all reach in their back pockets and pull out their pet rocks and they start adding back for parochial interests and not national interests. Would the gentleman like to quarrel with that statement?\\n', 'speech_2_id': 1000033403, 'response': 'Excerpt 0 exhibits a high level of emotionality through its passionate language, vivid imagery, and the invocation of grave historical events, specifically relating to the Holocaust. The speaker expresses strong feelings of anger and indignation towards actions and policies they believe lead to the loss of innocent life. The use of terms like \"angel of death,\" \"devil of death,\" and references to Dr. Mengele create an emotionally charged atmosphere. This excerpt aims to elicit a strong emotional response from listeners, employing a moral imperative regarding the value of life and justice.\\n\\nIn contrast, Excerpt 1 maintains a more measured, rational tone. While the speaker discusses budgetary issues and potential outcomes of fiscal decisions, the language remains analytical and formal. The use of phrases like \"cut below what we know is going to be the final figure\" and \"parochial interests and not national interests\" indicates a concern for processes and responsibilities but lacks the intense emotional charge present in Excerpt 0. The speaker presents their argument logically without strong emotional appeals or evocative language.\\n\\nGiven the context of both excerpts, it is clear that Excerpt 0 is significantly more emotional than Excerpt 1, which is reasoned and systematic in its approach.\\n\\nresult: 0', 'result': 0}\n"
     ]
    }
   ],
   "source": [
    "print(pairs[0])"
   ]
  },
  {
   "cell_type": "code",
   "execution_count": 28,
   "metadata": {},
   "outputs": [],
   "source": [
    "def extract_speeches(df, speech_id_col: str, results: pl.Series) -> pl.DataFrame:\n",
    "    return pl.DataFrame({\"speech_id\": df[speech_id_col], \"score\": results})\n",
    "\n",
    "\n",
    "def geom_labeled_line(label: str, year: int):\n",
    "    return geom_vline(\n",
    "        xintercept=datetime.datetime(year, 1, 1),\n",
    "        color=\"gray\",\n",
    "        linetype=\"dashed\",\n",
    "        size=1,\n",
    "        alpha=0.5,\n",
    "    ) + geom_text(\n",
    "        x=datetime.datetime(year, 1, 1),\n",
    "        y=0.7,\n",
    "        label=label,\n",
    "        nudge_y=0.05,\n",
    "        color=\"black\",\n",
    "        size=6,\n",
    "        background_color=\"white\",\n",
    "    )\n",
    "\n",
    "\n",
    "def emotionality_timeline(data: pl.DataFrame):\n",
    "    data = (\n",
    "        data.filter(c(\"chamber\").is_in([\"H\", \"S\"]))\n",
    "        .with_columns(c(\"date\").dt.truncate(\"1y\").alias(\"year\"))\n",
    "        .group_by(\"year\", \"chamber\")\n",
    "        .agg(c(\"score\").mean().alias(\"mean_score\"))\n",
    "        .sort(\"year\", \"chamber\")\n",
    "    )\n",
    "\n",
    "    return (\n",
    "        ggplot(data)\n",
    "        + geom_line(aes(x=\"year\", y=\"mean_score\", color=\"chamber\"))\n",
    "        + xlab(\"Year\")\n",
    "        + ylab(\"Mean emotional score\")\n",
    "        + scale_x_datetime(format=\"%Y\")\n",
    "        + geom_labeled_line(\"WW1\", 1917)\n",
    "        + geom_labeled_line(\"WW2\", 1941)\n",
    "        + geom_labeled_line(\"Viet.\", 1964)\n",
    "        + geom_labeled_line(\"TV\", 1977)\n",
    "        + theme(legend_position=\"top\")\n",
    "    )"
   ]
  },
  {
   "cell_type": "code",
   "execution_count": 29,
   "metadata": {},
   "outputs": [
    {
     "data": {
      "text/html": [
       "   <div id=\"IAvmDo\"></div>\n",
       "   <script type=\"text/javascript\" data-lets-plot-script=\"plot\">\n",
       "       (function() {\n",
       "           var plotSpec={\n",
       "\"data\":{\n",
       "\"year\":[-3.0609792E12,-3.0609792E12,-3.0294432E12,-3.0294432E12,-2.9979072E12,-2.9979072E12,-2.9663712E12,-2.9663712E12,-2.9347488E12,-2.9347488E12,-2.9032128E12,-2.9032128E12,-2.8716768E12,-2.8716768E12,-2.8401408E12,-2.8401408E12,-2.8085184E12,-2.8085184E12,-2.7769824E12,-2.7769824E12,-2.7454464E12,-2.7454464E12,-2.7139104E12,-2.7139104E12,-2.682288E12,-2.682288E12,-2.650752E12,-2.650752E12,-2.619216E12,-2.619216E12,-2.58768E12,-2.58768E12,-2.5560576E12,-2.5560576E12,-2.5245216E12,-2.5245216E12,-2.4929856E12,-2.4929856E12,-2.4614496E12,-2.4614496E12,-2.4298272E12,-2.4298272E12,-2.3982912E12,-2.3982912E12,-2.3667552E12,-2.3667552E12,-2.3352192E12,-2.3352192E12,-2.3035968E12,-2.3035968E12,-2.2720608E12,-2.2720608E12,-2.2405248E12,-2.2405248E12,-2.2089888E12,-2.2089888E12,-2.1774528E12,-2.1774528E12,-2.1459168E12,-2.1459168E12,-2.1143808E12,-2.1143808E12,-2.0828448E12,-2.0828448E12,-2.0512224E12,-2.0512224E12,-2.0196864E12,-2.0196864E12,-1.9881504E12,-1.9881504E12,-1.9566144E12,-1.9566144E12,-1.924992E12,-1.924992E12,-1.893456E12,-1.893456E12,-1.86192E12,-1.86192E12,-1.830384E12,-1.830384E12,-1.7987616E12,-1.7987616E12,-1.7672256E12,-1.7672256E12,-1.7356896E12,-1.7356896E12,-1.7041536E12,-1.7041536E12,-1.6725312E12,-1.6725312E12,-1.6409952E12,-1.6409952E12,-1.6094592E12,-1.6094592E12,-1.5779232E12,-1.5779232E12,-1.5463008E12,-1.5463008E12,-1.5147648E12,-1.5147648E12,-1.4832288E12,-1.4832288E12,-1.4516928E12,-1.4516928E12,-1.4200704E12,-1.4200704E12,-1.3885344E12,-1.3885344E12,-1.3569984E12,-1.3569984E12,-1.3254624E12,-1.3254624E12,-1.29384E12,-1.29384E12,-1.262304E12,-1.262304E12,-1.230768E12,-1.230768E12,-1.199232E12,-1.199232E12,-1.1676096E12,-1.1676096E12,-1.1360736E12,-1.1360736E12,-1.1045376E12,-1.1045376E12,-1.0730016E12,-1.0730016E12,-1.0413792E12,-1.0413792E12,-1.0098432E12,-1.0098432E12,-9.783072E11,-9.783072E11,-9.467712E11,-9.467712E11,-9.151488E11,-9.151488E11,-8.836128E11,-8.836128E11,-8.520768E11,-8.520768E11,-8.205408E11,-8.205408E11,-7.889184E11,-7.889184E11,-7.573824E11,-7.573824E11,-7.258464E11,-7.258464E11,-6.943104E11,-6.943104E11,-6.62688E11,-6.62688E11,-6.31152E11,-6.31152E11,-5.99616E11,-5.99616E11,-5.6808E11,-5.6808E11,-5.364576E11,-5.364576E11,-5.049216E11,-5.049216E11,-4.733856E11,-4.733856E11,-4.418496E11,-4.418496E11,-4.102272E11,-4.102272E11,-3.786912E11,-3.786912E11,-3.471552E11,-3.471552E11,-3.156192E11,-3.156192E11,-2.839968E11,-2.839968E11,-2.524608E11,-2.524608E11,-2.209248E11,-2.209248E11,-1.893888E11,-1.893888E11,-1.577664E11,-1.577664E11,-1.262304E11,-1.262304E11,-9.46944E10,-9.46944E10,-6.31584E10,-6.31584E10,-3.1536E10,-3.1536E10,0.0,0.0,3.1536E10,3.1536E10,6.3072E10,6.3072E10,9.46944E10,9.46944E10,1.262304E11,1.262304E11,1.577664E11,1.577664E11,1.893024E11,1.893024E11,2.209248E11,2.209248E11,2.524608E11,2.524608E11,2.839968E11,2.839968E11,3.155328E11,3.155328E11,3.471552E11,3.471552E11,3.786912E11,3.786912E11,4.102272E11,4.102272E11,4.417632E11,4.417632E11,4.733856E11,4.733856E11,5.049216E11,5.049216E11,5.364576E11,5.364576E11,5.679936E11,5.679936E11,5.99616E11,5.99616E11,6.31152E11,6.31152E11,6.62688E11,6.62688E11,6.94224E11,6.94224E11,7.258464E11,7.258464E11,7.573824E11,7.573824E11,7.889184E11,7.889184E11,8.204544E11,8.204544E11,8.520768E11,8.520768E11,8.836128E11,8.836128E11,9.151488E11,9.151488E11,9.466848E11,9.466848E11,9.783072E11,9.783072E11,1.0098432E12,1.0098432E12,1.0413792E12,1.0413792E12,1.0729152E12,1.0729152E12,1.1045376E12,1.1045376E12,1.1360736E12,1.1360736E12,1.1676096E12,1.1676096E12,1.1991456E12,1.1991456E12,1.230768E12,1.230768E12,1.262304E12,1.262304E12],\n",
       "\"chamber\":[\"H\",\"S\",\"H\",\"S\",\"H\",\"S\",\"H\",\"S\",\"H\",\"S\",\"H\",\"S\",\"H\",\"S\",\"H\",\"S\",\"H\",\"S\",\"H\",\"S\",\"H\",\"S\",\"H\",\"S\",\"H\",\"S\",\"H\",\"S\",\"H\",\"S\",\"H\",\"S\",\"H\",\"S\",\"H\",\"S\",\"H\",\"S\",\"H\",\"S\",\"H\",\"S\",\"H\",\"S\",\"H\",\"S\",\"H\",\"S\",\"H\",\"S\",\"H\",\"S\",\"H\",\"S\",\"H\",\"S\",\"H\",\"S\",\"H\",\"S\",\"H\",\"S\",\"H\",\"S\",\"H\",\"S\",\"H\",\"S\",\"H\",\"S\",\"H\",\"S\",\"H\",\"S\",\"H\",\"S\",\"H\",\"S\",\"H\",\"S\",\"H\",\"S\",\"H\",\"S\",\"H\",\"S\",\"H\",\"S\",\"H\",\"S\",\"H\",\"S\",\"H\",\"S\",\"H\",\"S\",\"H\",\"S\",\"H\",\"S\",\"H\",\"S\",\"H\",\"S\",\"H\",\"S\",\"H\",\"S\",\"H\",\"S\",\"H\",\"S\",\"H\",\"S\",\"H\",\"S\",\"H\",\"S\",\"H\",\"S\",\"H\",\"S\",\"H\",\"S\",\"H\",\"S\",\"H\",\"S\",\"H\",\"S\",\"H\",\"S\",\"H\",\"S\",\"H\",\"S\",\"H\",\"S\",\"H\",\"S\",\"H\",\"S\",\"H\",\"S\",\"H\",\"S\",\"H\",\"S\",\"H\",\"S\",\"H\",\"S\",\"H\",\"S\",\"H\",\"S\",\"H\",\"S\",\"H\",\"S\",\"H\",\"S\",\"H\",\"S\",\"H\",\"S\",\"H\",\"S\",\"H\",\"S\",\"H\",\"S\",\"H\",\"S\",\"H\",\"S\",\"H\",\"S\",\"H\",\"S\",\"H\",\"S\",\"H\",\"S\",\"H\",\"S\",\"H\",\"S\",\"H\",\"S\",\"H\",\"S\",\"H\",\"S\",\"H\",\"S\",\"H\",\"S\",\"H\",\"S\",\"H\",\"S\",\"H\",\"S\",\"H\",\"S\",\"H\",\"S\",\"H\",\"S\",\"H\",\"S\",\"H\",\"S\",\"H\",\"S\",\"H\",\"S\",\"H\",\"S\",\"H\",\"S\",\"H\",\"S\",\"H\",\"S\",\"H\",\"S\",\"H\",\"S\",\"H\",\"S\",\"H\",\"S\",\"H\",\"S\",\"H\",\"S\",\"H\",\"S\",\"H\",\"S\",\"H\",\"S\",\"H\",\"S\",\"H\",\"S\",\"H\",\"S\",\"H\",\"S\",\"H\",\"S\",\"H\",\"S\",\"H\",\"S\",\"H\",\"S\",\"H\",\"S\",\"H\",\"S\",\"H\",\"S\",\"H\",\"S\",\"H\",\"S\",\"H\",\"S\",\"H\",\"S\",\"H\",\"S\"],\n",
       "\"mean_score\":[0.5,0.5789473684210527,0.4026602176541717,0.4806547619047619,0.422360248447205,0.4198717948717949,0.42063492063492064,0.43541944074567246,0.4074074074074074,0.38439306358381503,0.40088757396449703,0.37518037518037517,0.4007707129094412,0.3939393939393939,0.37675070028011204,0.4009077155824508,0.36163522012578614,0.4054669703872437,0.40831758034026466,0.39752832131822863,0.39659367396593675,0.4139072847682119,0.4358288770053476,0.3520336605890603,0.38235294117647056,0.32934131736526945,0.42705005324813633,0.376720901126408,0.39344262295081966,0.38275862068965516,0.4101694915254237,0.3757159221076747,0.3946360153256705,0.3554817275747508,0.4475873544093178,0.35497470489038785,0.4263959390862944,0.3848101265822785,0.38751345532831,0.3795379537953795,0.36079077429983525,0.3758064516129032,0.43733567046450483,0.4105392156862745,0.4083333333333333,0.35694050991501414,0.42027194066749074,0.36444444444444446,0.4118773946360153,0.3774069319640565,0.45858343337334934,0.3639398998330551,0.4748603351955307,0.3511450381679389,0.4706744868035191,0.4031746031746032,0.3829113924050633,0.3835978835978836,0.44096728307254623,0.3657331136738056,0.4763636363636364,0.4090909090909091,0.4018181818181818,0.36237623762376237,0.4094955489614243,0.3664772727272727,0.44275582573454914,0.38221153846153844,0.39331619537275064,0.440625,0.4499411071849234,0.39344262295081966,0.42091503267973857,0.37434094903339193,0.429831595829992,0.34656084656084657,0.43781094527363185,0.40544871794871795,0.43253234750462105,0.38127659574468087,0.43896103896103894,0.34225352112676055,0.4769452449567723,0.4261744966442953,0.4484536082474227,0.4080808080808081,0.4856413529036375,0.4176434299814929,0.48452929558920343,0.41964285714285715,0.4481132075471698,0.44697508896797156,0.49482758620689654,0.45488441461595824,0.46875,0.4070707070707071,0.460446247464503,0.4261704681872749,0.47850770478507704,0.4117647058823529,0.4418604651162791,0.3730769230769231,0.5012009607686149,0.4317521781219748,0.4861111111111111,0.3584905660377358,0.4716981132075472,0.4475899005355777,0.4922048997772829,0.43775933609958506,0.44280860702151753,0.4540763673890609,0.47770700636942676,0.3947909527073338,0.4575221238938053,0.4292682926829268,0.4497153700189753,0.49209486166007904,0.476038338658147,0.4123354123354123,0.5126404494382022,0.4029990627928772,0.5138055222088835,0.39951573849878935,0.5050813008130082,0.4044943820224719,0.5113636363636364,0.3424242424242424,0.5198863636363636,0.38514851485148516,0.5172413793103449,0.42272727272727273,0.538546255506608,0.4085188770571152,0.532312925170068,0.43628691983122364,0.527306967984934,0.4231242312423124,0.5441020191285866,0.3844515441959531,0.5508870214752568,0.38672768878718533,0.49684873949579833,0.4125714285714286,0.519453207150368,0.4295415959252971,0.5200918484500574,0.42374517374517373,0.5678524374176548,0.4045155221072437,0.5373134328358209,0.38002296211251435,0.5141752577319587,0.36934389140271495,0.510818438381938,0.3972035214914552,0.5634674922600619,0.4143920595533499,0.543859649122807,0.41285296981499514,0.5342657342657343,0.41384995877988456,0.5052631578947369,0.43243243243243246,0.4815950920245399,0.4105960264900662,0.49733333333333335,0.40578577013291633,0.5377777777777778,0.4059196617336152,0.5005500550055005,0.4105960264900662,0.48148148148148145,0.4158607350096712,0.5173267326732673,0.4702176403207331,0.5069605568445475,0.4337957124842371,0.5547877591312932,0.4360573923892701,0.556407447973713,0.47131681877444587,0.556910569105691,0.4965792474344356,0.5397727272727273,0.4780952380952381,0.5495958853783982,0.47466467958271236,0.5703399765533411,0.4675925925925926,0.5811606391925989,0.47802197802197804,0.56,0.46756583172768146,0.5492629945694336,0.5177809388335705,0.570593149540518,0.46937573616018846,0.5412280701754386,0.4791946308724832,0.5417981072555205,0.4627906976744186,0.513728323699422,0.4582309582309582,0.506,0.4806776071995765,0.5068592057761733,0.4477715877437326,0.5505454545454546,0.42077151335311574,0.5400384368994234,0.46758462421113023,0.5420499342969777,0.4611901681759379,0.5482993197278911,0.48003072196620583,0.566543438077634,0.48475120385232745,0.6023346303501945,0.46788263283108644,0.5873493975903614,0.4747557003257329,0.6049661399548533,0.4505703422053232,0.6270190895741556,0.515527950310559,0.629661751951431,0.4870229007633588,0.5966183574879227,0.46221570066030815,0.5857572718154463,0.5172704296545914,0.6743940990516333,0.514760147601476,0.6162510056315366,0.49732620320855614,0.63167104111986,0.5304259634888439,0.6736441484300666,0.5183714001986097,0.6637554585152838,0.5278276481149012,0.6289370078740157,0.5082644628099173,0.6828644501278772,0.5409698996655519,0.6742857142857143,0.5487316421895861,0.6785370548604427,0.5252100840336135,0.6978798586572438,0.5333333333333333,0.688,0.5447680690399137,0.6785361028684471,0.5314900153609831,0.6787280701754386,0.5338541666666666,0.6925329428989752,0.5383502170767004,0.6712328767123288,0.5508196721311476,0.6778523489932886,0.5632582322357019,0.6991228070175438,0.5381231671554252,0.6874361593462717,0.5471698113207547,0.6973684210526315,0.5608465608465608,0.6917450365726228,0.5739644970414202,0.7106875425459497,0.5560344827586207,0.6982968369829684,0.5631067961165048]\n",
       "},\n",
       "\"mapping\":{\n",
       "},\n",
       "\"data_meta\":{\n",
       "\"series_annotations\":[{\n",
       "\"column\":\"year\",\n",
       "\"type\":\"datetime\"\n",
       "}]\n",
       "},\n",
       "\"theme\":{\n",
       "\"legend_position\":\"top\"\n",
       "},\n",
       "\"kind\":\"plot\",\n",
       "\"scales\":[{\n",
       "\"name\":\"Year\",\n",
       "\"aesthetic\":\"x\"\n",
       "},{\n",
       "\"name\":\"Mean emotional score\",\n",
       "\"aesthetic\":\"y\"\n",
       "},{\n",
       "\"aesthetic\":\"x\",\n",
       "\"format\":\"%Y\",\n",
       "\"datetime\":true\n",
       "},{\n",
       "\"name\":\"% of emotional speeches\",\n",
       "\"aesthetic\":\"y\"\n",
       "},{\n",
       "\"aesthetic\":\"x\",\n",
       "\"format\":\"%Y\",\n",
       "\"datetime\":true\n",
       "}],\n",
       "\"layers\":[{\n",
       "\"geom\":\"line\",\n",
       "\"mapping\":{\n",
       "\"x\":\"year\",\n",
       "\"y\":\"mean_score\",\n",
       "\"color\":\"chamber\"\n",
       "},\n",
       "\"data_meta\":{\n",
       "},\n",
       "\"data\":{\n",
       "}\n",
       "},{\n",
       "\"geom\":\"vline\",\n",
       "\"mapping\":{\n",
       "},\n",
       "\"data_meta\":{\n",
       "},\n",
       "\"xintercept\":-1.6725312E12,\n",
       "\"color\":\"gray\",\n",
       "\"linetype\":\"dashed\",\n",
       "\"size\":1.0,\n",
       "\"alpha\":0.5,\n",
       "\"data\":{\n",
       "}\n",
       "},{\n",
       "\"geom\":\"text\",\n",
       "\"mapping\":{\n",
       "},\n",
       "\"data_meta\":{\n",
       "},\n",
       "\"nudge_y\":0.05,\n",
       "\"x\":-1.6725312E12,\n",
       "\"y\":0.7,\n",
       "\"label\":\"WW1\",\n",
       "\"color\":\"black\",\n",
       "\"size\":6.0,\n",
       "\"background_color\":\"white\",\n",
       "\"data\":{\n",
       "}\n",
       "},{\n",
       "\"geom\":\"vline\",\n",
       "\"mapping\":{\n",
       "},\n",
       "\"data_meta\":{\n",
       "},\n",
       "\"xintercept\":-9.151488E11,\n",
       "\"color\":\"gray\",\n",
       "\"linetype\":\"dashed\",\n",
       "\"size\":1.0,\n",
       "\"alpha\":0.5,\n",
       "\"data\":{\n",
       "}\n",
       "},{\n",
       "\"geom\":\"text\",\n",
       "\"mapping\":{\n",
       "},\n",
       "\"data_meta\":{\n",
       "},\n",
       "\"nudge_y\":0.05,\n",
       "\"x\":-9.151488E11,\n",
       "\"y\":0.7,\n",
       "\"label\":\"WW2\",\n",
       "\"color\":\"black\",\n",
       "\"size\":6.0,\n",
       "\"background_color\":\"white\",\n",
       "\"data\":{\n",
       "}\n",
       "},{\n",
       "\"geom\":\"vline\",\n",
       "\"mapping\":{\n",
       "},\n",
       "\"data_meta\":{\n",
       "},\n",
       "\"xintercept\":-1.893888E11,\n",
       "\"color\":\"gray\",\n",
       "\"linetype\":\"dashed\",\n",
       "\"size\":1.0,\n",
       "\"alpha\":0.5,\n",
       "\"data\":{\n",
       "}\n",
       "},{\n",
       "\"geom\":\"text\",\n",
       "\"mapping\":{\n",
       "},\n",
       "\"data_meta\":{\n",
       "},\n",
       "\"nudge_y\":0.05,\n",
       "\"x\":-1.893888E11,\n",
       "\"y\":0.7,\n",
       "\"label\":\"Viet.\",\n",
       "\"color\":\"black\",\n",
       "\"size\":6.0,\n",
       "\"background_color\":\"white\",\n",
       "\"data\":{\n",
       "}\n",
       "},{\n",
       "\"geom\":\"vline\",\n",
       "\"mapping\":{\n",
       "},\n",
       "\"data_meta\":{\n",
       "},\n",
       "\"xintercept\":2.209248E11,\n",
       "\"color\":\"gray\",\n",
       "\"linetype\":\"dashed\",\n",
       "\"size\":1.0,\n",
       "\"alpha\":0.5,\n",
       "\"data\":{\n",
       "}\n",
       "},{\n",
       "\"geom\":\"text\",\n",
       "\"mapping\":{\n",
       "},\n",
       "\"data_meta\":{\n",
       "},\n",
       "\"nudge_y\":0.05,\n",
       "\"x\":2.209248E11,\n",
       "\"y\":0.7,\n",
       "\"label\":\"TV\",\n",
       "\"color\":\"black\",\n",
       "\"size\":6.0,\n",
       "\"background_color\":\"white\",\n",
       "\"data\":{\n",
       "}\n",
       "}],\n",
       "\"metainfo_list\":[]\n",
       "};\n",
       "           var plotContainer = document.getElementById(\"IAvmDo\");\n",
       "           window.letsPlotCall(function() {{\n",
       "               LetsPlot.buildPlotFromProcessedSpecs(plotSpec, -1, -1, plotContainer);\n",
       "           }});\n",
       "       })();\n",
       "   </script>"
      ]
     },
     "metadata": {},
     "output_type": "display_data"
    },
    {
     "data": {
      "text/plain": [
       "'/mnt/ssd-1/mechinterp/gw1/evzen-test/assets/emotionality_timeline_readme.svg'"
      ]
     },
     "execution_count": 29,
     "metadata": {},
     "output_type": "execute_result"
    }
   ],
   "source": [
    "results_from_pairs = pl.concat(\n",
    "    [\n",
    "        extract_speeches(pairs_df, \"speech_1_id\", 1 - pairs_df[\"result\"]),\n",
    "        extract_speeches(pairs_df, \"speech_2_id\", pairs_df[\"result\"]),\n",
    "    ]\n",
    ").join(dataset_df, on=\"speech_id\")\n",
    "\n",
    "chart = (\n",
    "    emotionality_timeline(results_from_pairs)\n",
    "    + ylab(\"% of emotional speeches\")\n",
    "    + scale_y_continuous(format=\"{.0%}\")\n",
    ")\n",
    "\n",
    "chart.show()\n",
    "\n",
    "ggsave(chart + ggsize(400, 250), str(asset_folder / \"emotionality_timeline.svg\"))\n",
    "\n",
    "ggsave(chart + ggsize(800, 500), str(asset_folder / \"emotionality_timeline_readme.svg\"))"
   ]
  },
  {
   "cell_type": "code",
   "execution_count": 27,
   "metadata": {},
   "outputs": [
    {
     "ename": "RuntimeError",
     "evalue": "BindingsError: \"Cannot infer NDJSON types on empty reader because empty string is not a valid JSON value\"",
     "output_type": "error",
     "traceback": [
      "\u001b[0;31m---------------------------------------------------------------------------\u001b[0m",
      "\u001b[0;31mRuntimeError\u001b[0m                              Traceback (most recent call last)",
      "Cell \u001b[0;32mIn[27], line 1\u001b[0m\n\u001b[0;32m----> 1\u001b[0m results_from_scoring \u001b[38;5;241m=\u001b[39m \u001b[43mpl\u001b[49m\u001b[38;5;241;43m.\u001b[39;49m\u001b[43mread_ndjson\u001b[49m\u001b[43m(\u001b[49m\n\u001b[1;32m      2\u001b[0m \u001b[43m    \u001b[49m\u001b[43mPath\u001b[49m\u001b[43m(\u001b[49m\u001b[38;5;124;43m\"\u001b[39;49m\u001b[38;5;124;43m../data/predictions/predictions.jsonl\u001b[39;49m\u001b[38;5;124;43m\"\u001b[39;49m\u001b[43m)\u001b[49m\n\u001b[1;32m      3\u001b[0m \u001b[43m)\u001b[49m\u001b[38;5;241m.\u001b[39mwith_columns(c(\u001b[38;5;124m\"\u001b[39m\u001b[38;5;124mdate\u001b[39m\u001b[38;5;124m\"\u001b[39m)\u001b[38;5;241m.\u001b[39mstr\u001b[38;5;241m.\u001b[39mto_datetime(\u001b[38;5;124m\"\u001b[39m\u001b[38;5;124m%\u001b[39m\u001b[38;5;124mY-\u001b[39m\u001b[38;5;124m%\u001b[39m\u001b[38;5;124mm-\u001b[39m\u001b[38;5;132;01m%d\u001b[39;00m\u001b[38;5;124m \u001b[39m\u001b[38;5;124m%\u001b[39m\u001b[38;5;124mH:\u001b[39m\u001b[38;5;124m%\u001b[39m\u001b[38;5;124mM:\u001b[39m\u001b[38;5;124m%\u001b[39m\u001b[38;5;124mS\u001b[39m\u001b[38;5;124m\"\u001b[39m))\n\u001b[1;32m      5\u001b[0m chart \u001b[38;5;241m=\u001b[39m emotionality_timeline(results_from_scoring)\n\u001b[1;32m      7\u001b[0m chart\u001b[38;5;241m.\u001b[39mshow()\n",
      "File \u001b[0;32m/mnt/ssd-1/mechinterp/gw1/evzen-test/.venv/lib/python3.12/site-packages/polars/io/ndjson.py:77\u001b[0m, in \u001b[0;36mread_ndjson\u001b[0;34m(source, schema, schema_overrides, ignore_errors)\u001b[0m\n\u001b[1;32m     74\u001b[0m \u001b[38;5;28;01melif\u001b[39;00m \u001b[38;5;28misinstance\u001b[39m(source, (\u001b[38;5;28mstr\u001b[39m, Path)):\n\u001b[1;32m     75\u001b[0m     source \u001b[38;5;241m=\u001b[39m normalize_filepath(source)\n\u001b[0;32m---> 77\u001b[0m pydf \u001b[38;5;241m=\u001b[39m \u001b[43mPyDataFrame\u001b[49m\u001b[38;5;241;43m.\u001b[39;49m\u001b[43mread_ndjson\u001b[49m\u001b[43m(\u001b[49m\n\u001b[1;32m     78\u001b[0m \u001b[43m    \u001b[49m\u001b[43msource\u001b[49m\u001b[43m,\u001b[49m\n\u001b[1;32m     79\u001b[0m \u001b[43m    \u001b[49m\u001b[43mignore_errors\u001b[49m\u001b[38;5;241;43m=\u001b[39;49m\u001b[43mignore_errors\u001b[49m\u001b[43m,\u001b[49m\n\u001b[1;32m     80\u001b[0m \u001b[43m    \u001b[49m\u001b[43mschema\u001b[49m\u001b[38;5;241;43m=\u001b[39;49m\u001b[43mschema\u001b[49m\u001b[43m,\u001b[49m\n\u001b[1;32m     81\u001b[0m \u001b[43m    \u001b[49m\u001b[43mschema_overrides\u001b[49m\u001b[38;5;241;43m=\u001b[39;49m\u001b[43mschema_overrides\u001b[49m\u001b[43m,\u001b[49m\n\u001b[1;32m     82\u001b[0m \u001b[43m\u001b[49m\u001b[43m)\u001b[49m\n\u001b[1;32m     83\u001b[0m \u001b[38;5;28;01mreturn\u001b[39;00m wrap_df(pydf)\n",
      "\u001b[0;31mRuntimeError\u001b[0m: BindingsError: \"Cannot infer NDJSON types on empty reader because empty string is not a valid JSON value\""
     ]
    }
   ],
   "source": [
    "results_from_scoring = pl.read_ndjson(\n",
    "    Path(\"../data/predictions/predictions.jsonl\")\n",
    ").with_columns(c(\"date\").str.to_datetime(\"%Y-%m-%d %H:%M:%S\"))\n",
    "\n",
    "chart = emotionality_timeline(results_from_scoring)\n",
    "\n",
    "chart.show()\n",
    "\n",
    "ggsave(\n",
    "    chart + ggsize(400, 250), str(asset_folder / \"emotionality_timeline_scoring.svg\")\n",
    ")"
   ]
  },
  {
   "cell_type": "code",
   "execution_count": null,
   "metadata": {},
   "outputs": [],
   "source": []
  }
 ],
 "metadata": {
  "kernelspec": {
   "display_name": ".venv",
   "language": "python",
   "name": "python3"
  },
  "language_info": {
   "codemirror_mode": {
    "name": "ipython",
    "version": 3
   },
   "file_extension": ".py",
   "mimetype": "text/x-python",
   "name": "python",
   "nbconvert_exporter": "python",
   "pygments_lexer": "ipython3",
   "version": "3.12.2"
  }
 },
 "nbformat": 4,
 "nbformat_minor": 2
}
