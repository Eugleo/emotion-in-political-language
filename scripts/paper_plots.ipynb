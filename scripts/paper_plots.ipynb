{
 "cells": [
  {
   "cell_type": "code",
   "execution_count": 35,
   "metadata": {},
   "outputs": [
    {
     "name": "stdout",
     "output_type": "stream",
     "text": [
      "The autoreload extension is already loaded. To reload it, use:\n",
      "  %reload_ext autoreload\n"
     ]
    }
   ],
   "source": [
    "%load_ext autoreload\n",
    "%autoreload 2"
   ]
  },
  {
   "cell_type": "code",
   "execution_count": 1,
   "metadata": {},
   "outputs": [
    {
     "name": "stderr",
     "output_type": "stream",
     "text": [
      "/mnt/ssd-1/mechinterp/gw1/evzen-test/.venv/lib/python3.12/site-packages/tqdm/auto.py:21: TqdmWarning: IProgress not found. Please update jupyter and ipywidgets. See https://ipywidgets.readthedocs.io/en/stable/user_install.html\n",
      "  from .autonotebook import tqdm as notebook_tqdm\n"
     ]
    },
    {
     "data": {
      "text/html": [
       "\n",
       "            <div id=\"ud6lhF\"></div>\n",
       "            <script type=\"text/javascript\" data-lets-plot-script=\"library\">\n",
       "                if(!window.letsPlotCallQueue) {\n",
       "                    window.letsPlotCallQueue = [];\n",
       "                }; \n",
       "                window.letsPlotCall = function(f) {\n",
       "                    window.letsPlotCallQueue.push(f);\n",
       "                };\n",
       "                (function() {\n",
       "                    var script = document.createElement(\"script\");\n",
       "                    script.type = \"text/javascript\";\n",
       "                    script.src = \"https://cdn.jsdelivr.net/gh/JetBrains/lets-plot@v4.3.3/js-package/distr/lets-plot.min.js\";\n",
       "                    script.onload = function() {\n",
       "                        window.letsPlotCall = function(f) {f();};\n",
       "                        window.letsPlotCallQueue.forEach(function(f) {f();});\n",
       "                        window.letsPlotCallQueue = [];\n",
       "                        \n",
       "                    };\n",
       "                    script.onerror = function(event) {\n",
       "                        window.letsPlotCall = function(f) {};    // noop\n",
       "                        window.letsPlotCallQueue = [];\n",
       "                        var div = document.createElement(\"div\");\n",
       "                        div.style.color = 'darkred';\n",
       "                        div.textContent = 'Error loading Lets-Plot JS';\n",
       "                        document.getElementById(\"ud6lhF\").appendChild(div);\n",
       "                    };\n",
       "                    var e = document.getElementById(\"ud6lhF\");\n",
       "                    e.appendChild(script);\n",
       "                })()\n",
       "            </script>\n",
       "            "
      ]
     },
     "metadata": {},
     "output_type": "display_data"
    }
   ],
   "source": [
    "import datetime\n",
    "\n",
    "# Add the project root to the Python path\n",
    "import os\n",
    "import sys\n",
    "from pathlib import Path\n",
    "\n",
    "import datasets\n",
    "import polars as pl\n",
    "from lets_plot import *\n",
    "from polars import col as c\n",
    "\n",
    "notebook_path = Path(os.getcwd()).resolve()\n",
    "sys.path.append(str(notebook_path.parent))\n",
    "\n",
    "from src.emotion import utils\n",
    "\n",
    "LetsPlot.setup_html()"
   ]
  },
  {
   "cell_type": "code",
   "execution_count": 2,
   "metadata": {},
   "outputs": [],
   "source": [
    "asset_folder = Path(\"../../assets\")\n",
    "utils.set_seed(42)"
   ]
  },
  {
   "cell_type": "markdown",
   "metadata": {},
   "source": [
    "## Speech Count"
   ]
  },
  {
   "cell_type": "code",
   "execution_count": 3,
   "metadata": {},
   "outputs": [],
   "source": [
    "dataset = datasets.load_dataset(\n",
    "    \"Eugleo/us-congressional-speeches-subset\", split=\"train\"\n",
    ")\n",
    "dataset_df = dataset.to_polars()"
   ]
  },
  {
   "cell_type": "code",
   "execution_count": 4,
   "metadata": {},
   "outputs": [
    {
     "data": {
      "text/html": [
       "   <div id=\"1VV1bm\"></div>\n",
       "   <script type=\"text/javascript\" data-lets-plot-script=\"plot\">\n",
       "       (function() {\n",
       "           var plotSpec={\n",
       "\"data\":{\n",
       "\"year\":[1.0413792E12,4.417632E11,5.99616E11,0.0,-2.4929856E12,-2.0512224E12,-2.3035968E12,-5.6808E11,-1.6094592E12,-2.9032128E12,-4.102272E11,-1.0098432E12,3.1536E10,6.31152E11,1.230768E12,-2.4614496E12,-2.0196864E12,1.0729152E12,-1.4200704E12,-9.783072E11,-2.2720608E12,-3.786912E11,2.209248E11,-1.5779232E12,-2.8716768E12,1.262304E12,6.3072E10,6.62688E11,-1.9881504E12,-2.682288E12,-1.3885344E12,-7.889184E11,-2.2405248E12,-9.467712E11,2.524608E11,8.520768E11,-3.471552E11,-2.8401408E12,6.94224E11,-1.7987616E12,-1.9566144E12,-1.3569984E12,-7.573824E11,-1.577664E11,8.836128E11,-2.2089888E12,2.839968E11,-3.156192E11,-2.650752E12,-1.7672256E12,-1.1676096E12,-1.262304E11,-7.258464E11,-3.0609792E12,4.733856E11,-1.3254624E12,3.155328E11,9.151488E11,-2.619216E12,-2.1774528E12,-1.1360736E12,-5.364576E11,-1.7356896E12,-9.46944E10,5.049216E11,-6.943104E11,-2.4298272E12,-3.0294432E12,9.466848E11,-2.1459168E12,-2.58768E12,1.1045376E12,-1.5463008E12,-1.1045376E12,-1.7041536E12,9.46944E10,-6.31584E10,-5.049216E11,-2.3982912E12,-2.9979072E12,5.364576E11,1.1360736E12,-9.151488E11,-2.1143808E12,-2.8085184E12,-1.5147648E12,-1.0730016E12,-2.9663712E12,1.262304E11,7.258464E11,-2.3667552E12,-4.733856E11,5.679936E11,-1.924992E12,1.1676096E12,-2.7769824E12,-2.839968E11,-2.0828448E12,-1.4832288E12,-8.836128E11,-2.3352192E12,-4.418496E11,1.577664E11,7.573824E11,-1.29384E12,1.1991456E12,-1.893456E12,-2.7454464E12,-2.524608E11,3.471552E11,-8.520768E11,-1.4516928E12,7.889184E11,1.893024E11,-6.62688E11,-1.262304E12,-1.86192E12,-2.7139104E12,3.786912E11,-2.5560576E12,9.783072E11,-8.205408E11,-2.209248E11,-1.6725312E12,8.204544E11,-3.1536E10,-1.830384E12,-1.230768E12,-6.31152E11,-2.5245216E12,4.102272E11,1.0098432E12,-1.893888E11,-1.6409952E12,-2.9347488E12,-5.99616E11,-1.0413792E12,-1.199232E12],\n",
       "\"speech_count\":[39142.0,47148.0,41272.0,67069.0,12895.0,11609.0,22148.0,28458.0,52633.0,22307.0,48568.0,27122.0,60502.0,45481.0,42110.0,26196.0,30081.0,29312.0,17879.0,34029.0,24223.0,49917.0,61161.0,35643.0,20164.0,25443.0,53498.0,45648.0,12581.0,11274.0,41244.0,37546.0,10312.0,39478.0,61120.0,35843.0,50460.0,22737.0,40109.0,43373.0,23970.0,16047.0,33883.0,56838.0,36926.0,22778.0,58258.0,50564.0,29283.0,65018.0,30888.0,53960.0,33649.0,2321.0,51720.0,30755.0,53520.0,39118.0,9985.0,12535.0,29474.0,32025.0,17862.0,59348.0,46990.0,26644.0,20035.0,25183.0,33945.0,22944.0,34317.0,36891.0,52874.0,36536.0,55108.0,61341.0,51430.0,51072.0,33514.0,10398.0,50809.0,30578.0,32033.0,9200.0,13428.0,54099.0,22707.0,24946.0,60219.0,42973.0,12291.0,33443.0,42799.0,30607.0,45605.0,33744.0,52030.0,17973.0,16167.0,32264.0,24997.0,41062.0,65799.0,38123.0,35217.0,30096.0,33749.0,16663.0,53744.0,45960.0,33749.0,37913.0,57470.0,54169.0,43129.0,39717.0,27776.0,24465.0,48766.0,10216.0,33767.0,30841.0,51251.0,52697.0,35384.0,58754.0,48012.0,17942.0,50451.0,41769.0,50829.0,27999.0,54083.0,52593.0,11181.0,43900.0,35433.0,43656.0]\n",
       "},\n",
       "\"mapping\":{\n",
       "\"x\":\"year\",\n",
       "\"y\":\"speech_count\"\n",
       "},\n",
       "\"data_meta\":{\n",
       "\"series_annotations\":[{\n",
       "\"column\":\"year\",\n",
       "\"type\":\"datetime\"\n",
       "}]\n",
       "},\n",
       "\"kind\":\"plot\",\n",
       "\"scales\":[{\n",
       "\"name\":\"Year\",\n",
       "\"aesthetic\":\"x\"\n",
       "},{\n",
       "\"name\":\"# of speeches\",\n",
       "\"aesthetic\":\"y\"\n",
       "},{\n",
       "\"aesthetic\":\"x\",\n",
       "\"format\":\"%Y\",\n",
       "\"datetime\":true\n",
       "}],\n",
       "\"layers\":[{\n",
       "\"geom\":\"line\",\n",
       "\"mapping\":{\n",
       "},\n",
       "\"data_meta\":{\n",
       "},\n",
       "\"data\":{\n",
       "}\n",
       "}],\n",
       "\"metainfo_list\":[]\n",
       "};\n",
       "           var plotContainer = document.getElementById(\"1VV1bm\");\n",
       "           window.letsPlotCall(function() {{\n",
       "               LetsPlot.buildPlotFromProcessedSpecs(plotSpec, -1, -1, plotContainer);\n",
       "           }});\n",
       "       })();\n",
       "   </script>"
      ]
     },
     "metadata": {},
     "output_type": "display_data"
    },
    {
     "data": {
      "text/plain": [
       "'/mnt/ssd-1/mechinterp/gw1/evzen-test/assets/speech_count.svg'"
      ]
     },
     "execution_count": 4,
     "metadata": {},
     "output_type": "execute_result"
    }
   ],
   "source": [
    "filtered_speech_count = dataset_df.group_by(\n",
    "    c(\"date\").dt.truncate(\"1y\").alias(\"year\")\n",
    ").agg(c(\"speech_id\").n_unique().alias(\"speech_count\"))\n",
    "\n",
    "chart = (\n",
    "    ggplot(filtered_speech_count, aes(x=\"year\", y=\"speech_count\"))\n",
    "    + geom_line()\n",
    "    + xlab(\"Year\")\n",
    "    + ylab(\"# of speeches\")\n",
    "    + scale_x_datetime(format=\"%Y\")\n",
    ")\n",
    "\n",
    "chart.show()\n",
    "\n",
    "ggsave(chart + ggsize(400, 200), str(asset_folder / \"speech_count.svg\"))"
   ]
  },
  {
   "cell_type": "code",
   "execution_count": 5,
   "metadata": {},
   "outputs": [
    {
     "data": {
      "text/plain": [
       "5038919"
      ]
     },
     "execution_count": 5,
     "metadata": {},
     "output_type": "execute_result"
    }
   ],
   "source": [
    "filtered_speech_count[\"speech_count\"].sum()"
   ]
  },
  {
   "cell_type": "markdown",
   "metadata": {},
   "source": [
    "## Pairwise Comparisons"
   ]
  },
  {
   "cell_type": "code",
   "execution_count": 6,
   "metadata": {},
   "outputs": [],
   "source": [
    "pairs = datasets.load_dataset(\n",
    "    \"Eugleo/us-congressional-speeches-emotionality-pairs\", split=\"train\"\n",
    ")\n",
    "pairs_df = pairs.to_polars()"
   ]
  },
  {
   "cell_type": "code",
   "execution_count": 7,
   "metadata": {},
   "outputs": [
    {
     "data": {
      "text/html": [
       "<div><style>\n",
       ".dataframe > thead > tr,\n",
       ".dataframe > tbody > tr {\n",
       "  text-align: right;\n",
       "  white-space: pre-wrap;\n",
       "}\n",
       "</style>\n",
       "<small>shape: (3, 2)</small><table border=\"1\" class=\"dataframe\"><thead><tr><th>result</th><th>count</th></tr><tr><td>i64</td><td>u32</td></tr></thead><tbody><tr><td>0</td><td>76616</td></tr><tr><td>1</td><td>71964</td></tr><tr><td>-1</td><td>1420</td></tr></tbody></table></div>"
      ],
      "text/plain": [
       "shape: (3, 2)\n",
       "┌────────┬───────┐\n",
       "│ result ┆ count │\n",
       "│ ---    ┆ ---   │\n",
       "│ i64    ┆ u32   │\n",
       "╞════════╪═══════╡\n",
       "│ 0      ┆ 76616 │\n",
       "│ 1      ┆ 71964 │\n",
       "│ -1     ┆ 1420  │\n",
       "└────────┴───────┘"
      ]
     },
     "execution_count": 7,
     "metadata": {},
     "output_type": "execute_result"
    }
   ],
   "source": [
    "pairs_df[\"result\"].value_counts()"
   ]
  },
  {
   "cell_type": "code",
   "execution_count": 8,
   "metadata": {},
   "outputs": [
    {
     "name": "stdout",
     "output_type": "stream",
     "text": [
      "{'speech_1': 'Auschwitz. I am glad I heard that word. I would like everybody in this Chamber. every visitor. Madam Chairman. and everybody across the country to absorb this fact that was just suppressed by the dominant media culture. The angel of death should have been called the devil of death on rail lines at Birkenau. the adjunct satellite camp to Auschwitz which the gentleman mentioned. which actually killed 4 million people. that angel of death. Dr. Mengele. who did in fact escape justice until God finally took him in a drowning accident on a Brazilian beach in 1979. guess what Dr. Mengele. the devil of Auschwitz and Birkenau did when he went to South America to hide from justice. guess what he practiced as a medical doctor. again disregarding his hypocratic oath and any sense of Christian or Jewish decency in this all over Europe. surprise. surprise. surprise. Dr. Mengele was an abortionist in Argentina and Brazil. We are killing innocent human life. Leave these Bush regulations alone. and let these family clinics function on planned parenthood that does not involve the death of an existing human being with an immortal soul. And Moses agrees with it. and Theramenes does. And in fact. all 23 of these lawmakers on our walls. including the infamous Napoleon. at least those who chose to speak out in the pages of history believed that that child moving in there was a live human being. And I visited Dr. Killer Tillers abortuary in Wichita. KS. 2 weeks ago and I watched the taxicab (river arrive with a mothertobe who was showing. showing. Showing what? A human being with a soul.\\n', 'speech_1_id': 1020155559, 'speech_2': 'Mr. Chairman. I yield myself such time as I may consume. I would just like to respond briefly before yielding to the gentleman from California. It has been pointed out that if we do not do this and meet the budget figure. then something dire is going to happen. I really do not know May . 1987 how many committees meet the budget figure now. I know that the Armed Services Committee is always under a lightning rod. while other committees overspend and go over the budget figure with impunity. and nobody seems too uptight about that. There is nothing that would prohibit anybody from offering an acrosstheboard amendment even now. however much we cut it or increase it. As long as we do it responsibly and we add back those things that are justified. with Members on the floor by a major. Ity voting and saying. yes. we want those addbacks. I do not see any rationale for saying that after having gone through all this process of adding back. then we are going to take a sweeping acrosstheboard cut. I do not believe that is going to happen. and I am willing to take my chances with it. I want to have the attention of the committee chairman now because I know he agrees with me on this. This is the worst possible way of doing business. in that we cut below what we know is going to be the final figure. and then when that figure is raised subsequently by the Budget Committee or in conference with the Senate. then there are addbacks. Well. how will they add it back? They add it back in conference. That is when the House Members and the Senate Members in conference. they all reach in their back pockets and pull out their pet rocks and they start adding back for parochial interests and not national interests. Would the gentleman like to quarrel with that statement?\\n', 'speech_2_id': 1000033403, 'response': 'Excerpt 0 exhibits a high level of emotionality through its passionate language, vivid imagery, and the invocation of grave historical events, specifically relating to the Holocaust. The speaker expresses strong feelings of anger and indignation towards actions and policies they believe lead to the loss of innocent life. The use of terms like \"angel of death,\" \"devil of death,\" and references to Dr. Mengele create an emotionally charged atmosphere. This excerpt aims to elicit a strong emotional response from listeners, employing a moral imperative regarding the value of life and justice.\\n\\nIn contrast, Excerpt 1 maintains a more measured, rational tone. While the speaker discusses budgetary issues and potential outcomes of fiscal decisions, the language remains analytical and formal. The use of phrases like \"cut below what we know is going to be the final figure\" and \"parochial interests and not national interests\" indicates a concern for processes and responsibilities but lacks the intense emotional charge present in Excerpt 0. The speaker presents their argument logically without strong emotional appeals or evocative language.\\n\\nGiven the context of both excerpts, it is clear that Excerpt 0 is significantly more emotional than Excerpt 1, which is reasoned and systematic in its approach.\\n\\nresult: 0', 'result': 0}\n"
     ]
    }
   ],
   "source": [
    "print(pairs[0])"
   ]
  },
  {
   "cell_type": "code",
   "execution_count": 23,
   "metadata": {},
   "outputs": [],
   "source": [
    "def extract_speeches(df, speech_id_col: str, results: pl.Series) -> pl.DataFrame:\n",
    "    return pl.DataFrame({\"speech_id\": df[speech_id_col], \"score\": results})\n",
    "\n",
    "\n",
    "def geom_labeled_line(label: str, year: int):\n",
    "    return geom_vline(\n",
    "        xintercept=datetime.datetime(year, 1, 1),\n",
    "        color=\"gray\",\n",
    "        linetype=\"dashed\",\n",
    "        size=1,\n",
    "        alpha=0.5,\n",
    "    ) + geom_text(\n",
    "        x=datetime.datetime(year, 1, 1),\n",
    "        y=0.7,\n",
    "        label=label,\n",
    "        nudge_y=0.05,\n",
    "        color=\"black\",\n",
    "        size=6,\n",
    "        background_color=\"white\",\n",
    "    )\n",
    "\n",
    "\n",
    "def emotionality_timeline(data: pl.DataFrame):\n",
    "    data = (\n",
    "        data.filter(c(\"chamber\").is_in([\"H\", \"S\"]))\n",
    "        .with_columns(c(\"date\").dt.truncate(\"1y\").alias(\"year\"))\n",
    "        .group_by(\"year\", \"chamber\")\n",
    "        .agg(c(\"score\").mean().alias(\"mean_score\"))\n",
    "        .sort(\"year\", \"chamber\")\n",
    "    )\n",
    "\n",
    "    return (\n",
    "        ggplot(data)\n",
    "        + geom_line(aes(x=\"year\", y=\"mean_score\", color=\"chamber\"))\n",
    "        + xlab(\"Year\")\n",
    "        + ylab(\"Mean emotional score\")\n",
    "        + scale_x_datetime(format=\"%Y\")\n",
    "        + geom_labeled_line(\"WW1\", 1917)\n",
    "        + geom_labeled_line(\"WW2\", 1941)\n",
    "        + geom_labeled_line(\"Viet.\", 1964)\n",
    "        + geom_labeled_line(\"TV\", 1977)\n",
    "        + theme(legend_position=\"top\")\n",
    "        + scale_y_continuous(format=\"{.0%}\")\n",
    "    )"
   ]
  },
  {
   "cell_type": "code",
   "execution_count": 24,
   "metadata": {},
   "outputs": [
    {
     "data": {
      "text/html": [
       "   <div id=\"F7LEcE\"></div>\n",
       "   <script type=\"text/javascript\" data-lets-plot-script=\"plot\">\n",
       "       (function() {\n",
       "           var plotSpec={\n",
       "\"__error_message\":\"Variable not found: 'mean_score'. Variables in data frame: ['year', 'chamber', 'mean_result']\"\n",
       "};\n",
       "           var plotContainer = document.getElementById(\"F7LEcE\");\n",
       "           window.letsPlotCall(function() {{\n",
       "               LetsPlot.buildPlotFromProcessedSpecs(plotSpec, -1, -1, plotContainer);\n",
       "           }});\n",
       "       })();\n",
       "   </script>"
      ]
     },
     "metadata": {},
     "output_type": "display_data"
    },
    {
     "data": {
      "text/plain": [
       "'/mnt/ssd-1/mechinterp/gw1/evzen-test/assets/emotionality_timeline.svg'"
      ]
     },
     "execution_count": 24,
     "metadata": {},
     "output_type": "execute_result"
    }
   ],
   "source": [
    "results_from_pairs = pl.concat(\n",
    "    [\n",
    "        extract_speeches(pairs_df, \"speech_1_id\", 1 - pairs_df[\"result\"]),\n",
    "        extract_speeches(pairs_df, \"speech_2_id\", pairs_df[\"result\"]),\n",
    "    ]\n",
    ").join(dataset_df, on=\"speech_id\")\n",
    "\n",
    "chart = emotionality_timeline(results_from_pairs)\n",
    "\n",
    "chart.show()\n",
    "\n",
    "ggsave(chart + ggsize(400, 250), str(asset_folder / \"emotionality_timeline.svg\"))"
   ]
  },
  {
   "cell_type": "code",
   "execution_count": 20,
   "metadata": {},
   "outputs": [
    {
     "ename": "ColumnNotFoundError",
     "evalue": "result",
     "output_type": "error",
     "traceback": [
      "\u001b[0;31m---------------------------------------------------------------------------\u001b[0m",
      "\u001b[0;31mColumnNotFoundError\u001b[0m                       Traceback (most recent call last)",
      "Cell \u001b[0;32mIn[20], line 5\u001b[0m\n\u001b[1;32m      1\u001b[0m results_from_scoring \u001b[38;5;241m=\u001b[39m pl\u001b[38;5;241m.\u001b[39mread_ndjson(\n\u001b[1;32m      2\u001b[0m     Path(\u001b[38;5;124m\"\u001b[39m\u001b[38;5;124m../data/predictions/predictions.jsonl\u001b[39m\u001b[38;5;124m\"\u001b[39m)\n\u001b[1;32m      3\u001b[0m )\u001b[38;5;241m.\u001b[39mwith_columns(c(\u001b[38;5;124m\"\u001b[39m\u001b[38;5;124mdate\u001b[39m\u001b[38;5;124m\"\u001b[39m)\u001b[38;5;241m.\u001b[39mstr\u001b[38;5;241m.\u001b[39mto_datetime(\u001b[38;5;124m\"\u001b[39m\u001b[38;5;124m%\u001b[39m\u001b[38;5;124mY-\u001b[39m\u001b[38;5;124m%\u001b[39m\u001b[38;5;124mm-\u001b[39m\u001b[38;5;132;01m%d\u001b[39;00m\u001b[38;5;124m \u001b[39m\u001b[38;5;124m%\u001b[39m\u001b[38;5;124mH:\u001b[39m\u001b[38;5;124m%\u001b[39m\u001b[38;5;124mM:\u001b[39m\u001b[38;5;124m%\u001b[39m\u001b[38;5;124mS\u001b[39m\u001b[38;5;124m\"\u001b[39m))\n\u001b[0;32m----> 5\u001b[0m chart \u001b[38;5;241m=\u001b[39m \u001b[43memotionality_timeline\u001b[49m\u001b[43m(\u001b[49m\u001b[43mresults_from_scoring\u001b[49m\u001b[43m)\u001b[49m\n\u001b[1;32m      7\u001b[0m chart\u001b[38;5;241m.\u001b[39mshow()\n\u001b[1;32m      9\u001b[0m ggsave(\n\u001b[1;32m     10\u001b[0m     chart \u001b[38;5;241m+\u001b[39m ggsize(\u001b[38;5;241m400\u001b[39m, \u001b[38;5;241m250\u001b[39m), \u001b[38;5;28mstr\u001b[39m(asset_folder \u001b[38;5;241m/\u001b[39m \u001b[38;5;124m\"\u001b[39m\u001b[38;5;124memotionality_timeline_scoring.svg\u001b[39m\u001b[38;5;124m\"\u001b[39m)\n\u001b[1;32m     11\u001b[0m )\n",
      "Cell \u001b[0;32mIn[18], line 28\u001b[0m, in \u001b[0;36memotionality_timeline\u001b[0;34m(data)\u001b[0m\n\u001b[1;32m     23\u001b[0m \u001b[38;5;28;01mdef\u001b[39;00m \u001b[38;5;21memotionality_timeline\u001b[39m(data: pl\u001b[38;5;241m.\u001b[39mDataFrame):\n\u001b[1;32m     24\u001b[0m     data \u001b[38;5;241m=\u001b[39m (\n\u001b[1;32m     25\u001b[0m         \u001b[43mdata\u001b[49m\u001b[38;5;241;43m.\u001b[39;49m\u001b[43mfilter\u001b[49m\u001b[43m(\u001b[49m\u001b[43mc\u001b[49m\u001b[43m(\u001b[49m\u001b[38;5;124;43m\"\u001b[39;49m\u001b[38;5;124;43mchamber\u001b[39;49m\u001b[38;5;124;43m\"\u001b[39;49m\u001b[43m)\u001b[49m\u001b[38;5;241;43m.\u001b[39;49m\u001b[43mis_in\u001b[49m\u001b[43m(\u001b[49m\u001b[43m[\u001b[49m\u001b[38;5;124;43m\"\u001b[39;49m\u001b[38;5;124;43mH\u001b[39;49m\u001b[38;5;124;43m\"\u001b[39;49m\u001b[43m,\u001b[49m\u001b[43m \u001b[49m\u001b[38;5;124;43m\"\u001b[39;49m\u001b[38;5;124;43mS\u001b[39;49m\u001b[38;5;124;43m\"\u001b[39;49m\u001b[43m]\u001b[49m\u001b[43m)\u001b[49m\u001b[43m)\u001b[49m\n\u001b[1;32m     26\u001b[0m \u001b[43m        \u001b[49m\u001b[38;5;241;43m.\u001b[39;49m\u001b[43mwith_columns\u001b[49m\u001b[43m(\u001b[49m\u001b[43mc\u001b[49m\u001b[43m(\u001b[49m\u001b[38;5;124;43m\"\u001b[39;49m\u001b[38;5;124;43mdate\u001b[39;49m\u001b[38;5;124;43m\"\u001b[39;49m\u001b[43m)\u001b[49m\u001b[38;5;241;43m.\u001b[39;49m\u001b[43mdt\u001b[49m\u001b[38;5;241;43m.\u001b[39;49m\u001b[43mtruncate\u001b[49m\u001b[43m(\u001b[49m\u001b[38;5;124;43m\"\u001b[39;49m\u001b[38;5;124;43m1y\u001b[39;49m\u001b[38;5;124;43m\"\u001b[39;49m\u001b[43m)\u001b[49m\u001b[38;5;241;43m.\u001b[39;49m\u001b[43malias\u001b[49m\u001b[43m(\u001b[49m\u001b[38;5;124;43m\"\u001b[39;49m\u001b[38;5;124;43myear\u001b[39;49m\u001b[38;5;124;43m\"\u001b[39;49m\u001b[43m)\u001b[49m\u001b[43m)\u001b[49m\n\u001b[1;32m     27\u001b[0m \u001b[43m        \u001b[49m\u001b[38;5;241;43m.\u001b[39;49m\u001b[43mgroup_by\u001b[49m\u001b[43m(\u001b[49m\u001b[38;5;124;43m\"\u001b[39;49m\u001b[38;5;124;43myear\u001b[39;49m\u001b[38;5;124;43m\"\u001b[39;49m\u001b[43m,\u001b[49m\u001b[43m \u001b[49m\u001b[38;5;124;43m\"\u001b[39;49m\u001b[38;5;124;43mchamber\u001b[39;49m\u001b[38;5;124;43m\"\u001b[39;49m\u001b[43m)\u001b[49m\n\u001b[0;32m---> 28\u001b[0m \u001b[43m        \u001b[49m\u001b[38;5;241;43m.\u001b[39;49m\u001b[43magg\u001b[49m\u001b[43m(\u001b[49m\u001b[43mc\u001b[49m\u001b[43m(\u001b[49m\u001b[38;5;124;43m\"\u001b[39;49m\u001b[38;5;124;43mresult\u001b[39;49m\u001b[38;5;124;43m\"\u001b[39;49m\u001b[43m)\u001b[49m\u001b[38;5;241;43m.\u001b[39;49m\u001b[43mmean\u001b[49m\u001b[43m(\u001b[49m\u001b[43m)\u001b[49m\u001b[38;5;241;43m.\u001b[39;49m\u001b[43malias\u001b[49m\u001b[43m(\u001b[49m\u001b[38;5;124;43m\"\u001b[39;49m\u001b[38;5;124;43mmean_result\u001b[39;49m\u001b[38;5;124;43m\"\u001b[39;49m\u001b[43m)\u001b[49m\u001b[43m)\u001b[49m\n\u001b[1;32m     29\u001b[0m         \u001b[38;5;241m.\u001b[39msort(\u001b[38;5;124m\"\u001b[39m\u001b[38;5;124myear\u001b[39m\u001b[38;5;124m\"\u001b[39m, \u001b[38;5;124m\"\u001b[39m\u001b[38;5;124mchamber\u001b[39m\u001b[38;5;124m\"\u001b[39m)\n\u001b[1;32m     30\u001b[0m     )\n\u001b[1;32m     32\u001b[0m     \u001b[38;5;28;01mreturn\u001b[39;00m (\n\u001b[1;32m     33\u001b[0m         ggplot(results)\n\u001b[1;32m     34\u001b[0m         \u001b[38;5;241m+\u001b[39m geom_line(aes(x\u001b[38;5;241m=\u001b[39m\u001b[38;5;124m\"\u001b[39m\u001b[38;5;124myear\u001b[39m\u001b[38;5;124m\"\u001b[39m, y\u001b[38;5;241m=\u001b[39m\u001b[38;5;124m\"\u001b[39m\u001b[38;5;124mmean_result\u001b[39m\u001b[38;5;124m\"\u001b[39m, color\u001b[38;5;241m=\u001b[39m\u001b[38;5;124m\"\u001b[39m\u001b[38;5;124mchamber\u001b[39m\u001b[38;5;124m\"\u001b[39m))\n\u001b[0;32m   (...)\u001b[0m\n\u001b[1;32m     43\u001b[0m         \u001b[38;5;241m+\u001b[39m scale_y_continuous(\u001b[38;5;28mformat\u001b[39m\u001b[38;5;241m=\u001b[39m\u001b[38;5;124m\"\u001b[39m\u001b[38;5;124m{\u001b[39m\u001b[38;5;124m.0\u001b[39m\u001b[38;5;124m%\u001b[39m\u001b[38;5;124m}\u001b[39m\u001b[38;5;124m\"\u001b[39m)\n\u001b[1;32m     44\u001b[0m     )\n",
      "File \u001b[0;32m/mnt/ssd-1/mechinterp/gw1/evzen-test/.venv/lib/python3.12/site-packages/polars/dataframe/group_by.py:250\u001b[0m, in \u001b[0;36mGroupBy.agg\u001b[0;34m(self, *aggs, **named_aggs)\u001b[0m\n\u001b[1;32m    141\u001b[0m \u001b[38;5;28;01mdef\u001b[39;00m \u001b[38;5;21magg\u001b[39m(\n\u001b[1;32m    142\u001b[0m     \u001b[38;5;28mself\u001b[39m,\n\u001b[1;32m    143\u001b[0m     \u001b[38;5;241m*\u001b[39maggs: IntoExpr \u001b[38;5;241m|\u001b[39m Iterable[IntoExpr],\n\u001b[1;32m    144\u001b[0m     \u001b[38;5;241m*\u001b[39m\u001b[38;5;241m*\u001b[39mnamed_aggs: IntoExpr,\n\u001b[1;32m    145\u001b[0m ) \u001b[38;5;241m-\u001b[39m\u001b[38;5;241m>\u001b[39m DataFrame:\n\u001b[1;32m    146\u001b[0m \u001b[38;5;250m    \u001b[39m\u001b[38;5;124;03m\"\"\"\u001b[39;00m\n\u001b[1;32m    147\u001b[0m \u001b[38;5;124;03m    Compute aggregations for each group of a group by operation.\u001b[39;00m\n\u001b[1;32m    148\u001b[0m \n\u001b[0;32m   (...)\u001b[0m\n\u001b[1;32m    244\u001b[0m \u001b[38;5;124;03m    └─────┴───────┴────────────────┘\u001b[39;00m\n\u001b[1;32m    245\u001b[0m \u001b[38;5;124;03m    \"\"\"\u001b[39;00m\n\u001b[1;32m    246\u001b[0m     \u001b[38;5;28;01mreturn\u001b[39;00m (\n\u001b[1;32m    247\u001b[0m         \u001b[38;5;28;43mself\u001b[39;49m\u001b[38;5;241;43m.\u001b[39;49m\u001b[43mdf\u001b[49m\u001b[38;5;241;43m.\u001b[39;49m\u001b[43mlazy\u001b[49m\u001b[43m(\u001b[49m\u001b[43m)\u001b[49m\n\u001b[1;32m    248\u001b[0m \u001b[43m        \u001b[49m\u001b[38;5;241;43m.\u001b[39;49m\u001b[43mgroup_by\u001b[49m\u001b[43m(\u001b[49m\u001b[38;5;241;43m*\u001b[39;49m\u001b[38;5;28;43mself\u001b[39;49m\u001b[38;5;241;43m.\u001b[39;49m\u001b[43mby\u001b[49m\u001b[43m,\u001b[49m\u001b[43m \u001b[49m\u001b[38;5;241;43m*\u001b[39;49m\u001b[38;5;241;43m*\u001b[39;49m\u001b[38;5;28;43mself\u001b[39;49m\u001b[38;5;241;43m.\u001b[39;49m\u001b[43mnamed_by\u001b[49m\u001b[43m,\u001b[49m\u001b[43m \u001b[49m\u001b[43mmaintain_order\u001b[49m\u001b[38;5;241;43m=\u001b[39;49m\u001b[38;5;28;43mself\u001b[39;49m\u001b[38;5;241;43m.\u001b[39;49m\u001b[43mmaintain_order\u001b[49m\u001b[43m)\u001b[49m\n\u001b[1;32m    249\u001b[0m \u001b[43m        \u001b[49m\u001b[38;5;241;43m.\u001b[39;49m\u001b[43magg\u001b[49m\u001b[43m(\u001b[49m\u001b[38;5;241;43m*\u001b[39;49m\u001b[43maggs\u001b[49m\u001b[43m,\u001b[49m\u001b[43m \u001b[49m\u001b[38;5;241;43m*\u001b[39;49m\u001b[38;5;241;43m*\u001b[39;49m\u001b[43mnamed_aggs\u001b[49m\u001b[43m)\u001b[49m\n\u001b[0;32m--> 250\u001b[0m \u001b[43m        \u001b[49m\u001b[38;5;241;43m.\u001b[39;49m\u001b[43mcollect\u001b[49m\u001b[43m(\u001b[49m\u001b[43mno_optimization\u001b[49m\u001b[38;5;241;43m=\u001b[39;49m\u001b[38;5;28;43;01mTrue\u001b[39;49;00m\u001b[43m)\u001b[49m\n\u001b[1;32m    251\u001b[0m     )\n",
      "File \u001b[0;32m/mnt/ssd-1/mechinterp/gw1/evzen-test/.venv/lib/python3.12/site-packages/polars/lazyframe/frame.py:1855\u001b[0m, in \u001b[0;36mLazyFrame.collect\u001b[0;34m(self, type_coercion, predicate_pushdown, projection_pushdown, simplify_expression, slice_pushdown, comm_subplan_elim, comm_subexpr_elim, cluster_with_columns, no_optimization, streaming, background, _eager, **_kwargs)\u001b[0m\n\u001b[1;32m   1852\u001b[0m \u001b[38;5;66;03m# Only for testing purposes atm.\u001b[39;00m\n\u001b[1;32m   1853\u001b[0m callback \u001b[38;5;241m=\u001b[39m _kwargs\u001b[38;5;241m.\u001b[39mget(\u001b[38;5;124m\"\u001b[39m\u001b[38;5;124mpost_opt_callback\u001b[39m\u001b[38;5;124m\"\u001b[39m)\n\u001b[0;32m-> 1855\u001b[0m \u001b[38;5;28;01mreturn\u001b[39;00m wrap_df(\u001b[43mldf\u001b[49m\u001b[38;5;241;43m.\u001b[39;49m\u001b[43mcollect\u001b[49m\u001b[43m(\u001b[49m\u001b[43mcallback\u001b[49m\u001b[43m)\u001b[49m)\n",
      "\u001b[0;31mColumnNotFoundError\u001b[0m: result"
     ]
    }
   ],
   "source": [
    "results_from_scoring = pl.read_ndjson(\n",
    "    Path(\"../data/predictions/predictions.jsonl\")\n",
    ").with_columns(c(\"date\").str.to_datetime(\"%Y-%m-%d %H:%M:%S\"))\n",
    "\n",
    "chart = emotionality_timeline(results_from_scoring)\n",
    "\n",
    "chart.show()\n",
    "\n",
    "ggsave(\n",
    "    chart + ggsize(400, 250), str(asset_folder / \"emotionality_timeline_scoring.svg\")\n",
    ")"
   ]
  },
  {
   "cell_type": "code",
   "execution_count": null,
   "metadata": {},
   "outputs": [],
   "source": []
  }
 ],
 "metadata": {
  "kernelspec": {
   "display_name": ".venv",
   "language": "python",
   "name": "python3"
  },
  "language_info": {
   "codemirror_mode": {
    "name": "ipython",
    "version": 3
   },
   "file_extension": ".py",
   "mimetype": "text/x-python",
   "name": "python",
   "nbconvert_exporter": "python",
   "pygments_lexer": "ipython3",
   "version": "3.12.2"
  }
 },
 "nbformat": 4,
 "nbformat_minor": 2
}
